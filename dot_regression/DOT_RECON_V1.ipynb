{
 "cells": [
  {
   "cell_type": "markdown",
   "metadata": {},
   "source": [
    "test"
   ]
  },
  {
   "cell_type": "code",
   "execution_count": 2,
   "metadata": {
    "collapsed": true
   },
   "outputs": [],
   "source": [
    "#from tensorflow.examples.tutorials.mnist import input_data\n",
    "import scipy.io\n",
    "import matplotlib.pyplot    as plt\n",
    "import numpy                as np\n",
    "import random               as rd\n",
    "import tensorflow           as tf\n",
    "import time"
   ]
  },
  {
   "cell_type": "code",
   "execution_count": 6,
   "metadata": {
    "collapsed": false
   },
   "outputs": [
    {
     "name": "stdout",
     "output_type": "stream",
     "text": [
      "(18, 1890)\n",
      "(20, 1890)\n"
     ]
    }
   ],
   "source": [
    "filepath = './data_gen/imdb_fem_inside_det_num_inc_1890_s116_d189_interp.mat'\n",
    "\n",
    "mat     = scipy.io.loadmat(filepath , squeeze_me=True, struct_as_record=False)\n",
    "images = mat['images']\n",
    "data = images.new_data\n",
    "labels = images.new_label\n",
    "print(data.shape)\n",
    "print(labels.shape)"
   ]
  }
 ],
 "metadata": {
  "anaconda-cloud": {},
  "kernelspec": {
   "display_name": "Python [conda env:tensorflow35]",
   "language": "python",
   "name": "conda-env-tensorflow35-py"
  },
  "language_info": {
   "codemirror_mode": {
    "name": "ipython",
    "version": 3
   },
   "file_extension": ".py",
   "mimetype": "text/x-python",
   "name": "python",
   "nbconvert_exporter": "python",
   "pygments_lexer": "ipython3",
   "version": "3.5.2"
  }
 },
 "nbformat": 4,
 "nbformat_minor": 1
}
